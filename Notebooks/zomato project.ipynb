{
 "cells": [
  {
   "cell_type": "code",
   "execution_count": 31,
   "id": "6fcffa23-a968-4dd8-b7e9-be6a78a0c3da",
   "metadata": {
    "scrolled": true
   },
   "outputs": [
    {
     "name": "stdout",
     "output_type": "stream",
     "text": [
      "<class 'pandas.core.frame.DataFrame'>\n",
      "RangeIndex: 51717 entries, 0 to 51716\n",
      "Data columns (total 17 columns):\n",
      " #   Column                       Non-Null Count  Dtype \n",
      "---  ------                       --------------  ----- \n",
      " 0   url                          51717 non-null  object\n",
      " 1   address                      51717 non-null  object\n",
      " 2   name                         51717 non-null  object\n",
      " 3   online_order                 51717 non-null  object\n",
      " 4   book_table                   51717 non-null  object\n",
      " 5   rate                         43942 non-null  object\n",
      " 6   votes                        51717 non-null  int64 \n",
      " 7   phone                        50509 non-null  object\n",
      " 8   location                     51696 non-null  object\n",
      " 9   rest_type                    51490 non-null  object\n",
      " 10  dish_liked                   23639 non-null  object\n",
      " 11  cuisines                     51672 non-null  object\n",
      " 12  approx_cost(for two people)  51371 non-null  object\n",
      " 13  reviews_list                 51717 non-null  object\n",
      " 14  menu_item                    51717 non-null  object\n",
      " 15  listed_in(type)              51717 non-null  object\n",
      " 16  listed_in(city)              51717 non-null  object\n",
      "dtypes: int64(1), object(16)\n",
      "memory usage: 6.7+ MB\n"
     ]
    }
   ],
   "source": [
    "import pandas as pd\n",
    "df=pd.read_csv('zomato.csv')\n",
    "df.info()"
   ]
  },
  {
   "cell_type": "code",
   "execution_count": 35,
   "id": "6ba5962d-7f0f-4d73-97b3-104e708fe15c",
   "metadata": {},
   "outputs": [],
   "source": [
    "df.drop(['url','address','phone','dish_liked','reviews_list','menu_item','location','rest_type','location','rest_type'],axis=1,inplace=True)"
   ]
  },
  {
   "cell_type": "code",
   "execution_count": 37,
   "id": "7e0ab40e-a640-4673-b0ca-30f83f49687b",
   "metadata": {},
   "outputs": [],
   "source": [
    "df=df.rename(columns=({'name':'restaurant_name','rate':'rating','approx_cost(for two people)':'cost per person','listed_in(city)':'city','listed_in(type)':'restaurant_type'}))"
   ]
  },
  {
   "cell_type": "code",
   "execution_count": 47,
   "id": "71c6a24b-0fa6-4dc3-aa91-842eca719b8c",
   "metadata": {},
   "outputs": [],
   "source": [
    "df=df.dropna(subset=(['cuisines','cost per person']))"
   ]
  },
  {
   "cell_type": "code",
   "execution_count": 57,
   "id": "e6268691-1311-46f4-9b74-93c7733a0413",
   "metadata": {},
   "outputs": [],
   "source": [
    "df=df.drop_duplicates()"
   ]
  },
  {
   "cell_type": "code",
   "execution_count": 65,
   "id": "72f2f365-e42a-45eb-81cd-b82291aa2f78",
   "metadata": {},
   "outputs": [],
   "source": [
    "df['rating']=df['rating'].astype(str)"
   ]
  },
  {
   "cell_type": "code",
   "execution_count": 71,
   "id": "2cfb5201-56ca-4b19-abe5-7b0bf323489e",
   "metadata": {},
   "outputs": [],
   "source": [
    "df['rating']=df['rating'].str.replace('/5','')"
   ]
  },
  {
   "cell_type": "code",
   "execution_count": 91,
   "id": "5b6915ab-a1ba-4c37-a305-92efd71b291a",
   "metadata": {},
   "outputs": [],
   "source": [
    "df['rating']=df['rating'].str.replace('NEW','nan')"
   ]
  },
  {
   "cell_type": "code",
   "execution_count": 123,
   "id": "653c4c87-2b97-4e9f-944e-36b01dbacb6c",
   "metadata": {},
   "outputs": [],
   "source": [
    "df['rating']=df['rating'].str.replace('-','nan')"
   ]
  },
  {
   "cell_type": "code",
   "execution_count": 125,
   "id": "cc184dfc-7ef3-4b00-9452-a857d86f4dc4",
   "metadata": {},
   "outputs": [],
   "source": [
    "df['rating']=df['rating'].astype(float)"
   ]
  },
  {
   "cell_type": "code",
   "execution_count": 141,
   "id": "9e5397b3-6f0c-4a6d-8185-4267152d8da9",
   "metadata": {},
   "outputs": [],
   "source": [
    "df['rating']=df['rating'].fillna(df['rating'].mean())"
   ]
  },
  {
   "cell_type": "code",
   "execution_count": 151,
   "id": "79f8df7c-ac1e-4aa6-ba57-92b46589d713",
   "metadata": {},
   "outputs": [],
   "source": [
    "df['rating']=df['rating'].round(2)"
   ]
  },
  {
   "cell_type": "code",
   "execution_count": 183,
   "id": "9780565e-09a6-465d-b16c-eb1c45e4f5eb",
   "metadata": {},
   "outputs": [],
   "source": [
    "df['cost per person']=df['cost per person'].astype(str)"
   ]
  },
  {
   "cell_type": "code",
   "execution_count": 185,
   "id": "6a04aa59-1cab-4de8-bc17-a297a1444b30",
   "metadata": {},
   "outputs": [],
   "source": [
    "df['cost per person']=df['cost per person'].str.replace(',','')"
   ]
  },
  {
   "cell_type": "code",
   "execution_count": 193,
   "id": "0167c17c-5f25-4bbc-b591-b31765e10b65",
   "metadata": {},
   "outputs": [],
   "source": [
    "df['cost per person']=df['cost per person'].astype(int)"
   ]
  },
  {
   "cell_type": "code",
   "execution_count": 197,
   "id": "771a38c0-7add-49b8-a452-d644116fc0d8",
   "metadata": {},
   "outputs": [],
   "source": [
    "df['cost per person']=df['cost per person']/2"
   ]
  },
  {
   "cell_type": "code",
   "execution_count": 209,
   "id": "99215f54-b21a-4135-a502-b6f688d826c5",
   "metadata": {},
   "outputs": [],
   "source": [
    "df['restaurant_name']=df['restaurant_name'].astype(str)\n",
    "df['online_order']=df['online_order'].astype(str)\n",
    "df['book_table']=df['book_table'].astype(str)\n",
    "df['cuisines']=df['cuisines'].astype(str)\n",
    "df['restaurant_type']=df['restaurant_type'].astype(str)\n",
    "df['city']=df['city'].astype(str)"
   ]
  },
  {
   "cell_type": "code",
   "execution_count": 213,
   "id": "c98c27de-e60f-42f3-a0a2-1d17a4202a54",
   "metadata": {},
   "outputs": [],
   "source": [
    "df.to_csv('zomato_clean_data.csv',index=False)"
   ]
  },
  {
   "cell_type": "code",
   "execution_count": null,
   "id": "b9e106c1-9ed3-4004-bec8-677d6fbf483c",
   "metadata": {},
   "outputs": [],
   "source": []
  }
 ],
 "metadata": {
  "kernelspec": {
   "display_name": "Python [conda env:base] *",
   "language": "python",
   "name": "conda-base-py"
  },
  "language_info": {
   "codemirror_mode": {
    "name": "ipython",
    "version": 3
   },
   "file_extension": ".py",
   "mimetype": "text/x-python",
   "name": "python",
   "nbconvert_exporter": "python",
   "pygments_lexer": "ipython3",
   "version": "3.12.7"
  }
 },
 "nbformat": 4,
 "nbformat_minor": 5
}
